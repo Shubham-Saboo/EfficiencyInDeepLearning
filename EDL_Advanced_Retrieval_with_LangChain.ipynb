{
  "nbformat": 4,
  "nbformat_minor": 0,
  "metadata": {
    "colab": {
      "provenance": []
    },
    "kernelspec": {
      "name": "python3",
      "display_name": "Python 3"
    },
    "language_info": {
      "name": "python"
    }
  },
  "cells": [
    {
      "cell_type": "code",
      "source": [
        "OpenAI_api_key=\"\""
      ],
      "metadata": {
        "id": "zQQ4PrsNAdQl"
      },
      "execution_count": null,
      "outputs": []
    },
    {
      "cell_type": "code",
      "source": [
        "Cohere_API_Key = \"\""
      ],
      "metadata": {
        "id": "JuNS-ncAl0ff"
      },
      "execution_count": null,
      "outputs": []
    },
    {
      "cell_type": "markdown",
      "source": [
        "# Advanced Retrieval with LangChain\n",
        "\n",
        "In the following notebook, we'll explore various methods of advanced retrieval using LangChain!\n",
        "\n",
        "We'll touch on:\n",
        "\n",
        "- Naive Retrieval\n",
        "- Parent Document Retrieval\n",
        "- Self-Query Retrieval\n",
        "- Time-weighted Retrieval\n",
        "- Contextual Compression Retrieval\n",
        "\n",
        "We'll also discuss how these methods impact performance on our set of documents with a simple RAG chain.\n",
        "\n",
        "> NOTE: We'll provide a separate notebook for the evaluation of these methods which will be available in the YouTube comments"
      ],
      "metadata": {
        "id": "e-IqJAMkwnCF"
      }
    },
    {
      "cell_type": "markdown",
      "source": [
        "## Step 1:\n",
        "\n",
        "Installing required libraries!\n",
        "\n",
        "We're going to need a few specific LangChain community packages, like OpenAI (for our [LLM](https://platform.openai.com/docs/models) and [Embedding Model](https://platform.openai.com/docs/guides/embeddings)) and Cohere (for our [Reranker](https://cohere.com/rerank))."
      ],
      "metadata": {
        "id": "3xes8oT-xHN7"
      }
    },
    {
      "cell_type": "code",
      "execution_count": null,
      "metadata": {
        "id": "MkgFAXWVW3wm"
      },
      "outputs": [],
      "source": [
        "!pip install -qU langchain langchain-openai langchain-cohere"
      ]
    },
    {
      "cell_type": "markdown",
      "source": [
        "We're also going to be leveraging [Qdrant's](https://qdrant.tech/documentation/frameworks/langchain/) (pronounced \"Quadrant\") VectorDB in \"memory\" mode (so we can leverage it locally in our colab environment), and require [Lark](https://github.com/lark-parser/lark) for our Self-Query retriever."
      ],
      "metadata": {
        "id": "dKqYM4Eoxcov"
      }
    },
    {
      "cell_type": "code",
      "source": [
        "!pip install -qU qdrant-client lark"
      ],
      "metadata": {
        "id": "s6xav5CxYnML"
      },
      "execution_count": null,
      "outputs": []
    },
    {
      "cell_type": "markdown",
      "source": [
        "We'll also provide our OpenAI key, as well as our Cohere API key."
      ],
      "metadata": {
        "id": "Z7OHJXzfyJyA"
      }
    },
    {
      "cell_type": "code",
      "source": [
        "import os\n",
        "import getpass\n",
        "\n",
        "os.environ[\"OPENAI_API_KEY\"] = getpass.getpass(\"Enter your OpenAI API Key:\")"
      ],
      "metadata": {
        "colab": {
          "base_uri": "https://localhost:8080/"
        },
        "id": "7LttlDQUYgSI",
        "outputId": "f54a45f0-d0f0-454e-cf3c-70188e9a6162"
      },
      "execution_count": null,
      "outputs": [
        {
          "name": "stdout",
          "output_type": "stream",
          "text": [
            "Enter your OpenAI API Key:··········\n"
          ]
        }
      ]
    },
    {
      "cell_type": "code",
      "source": [
        "os.environ[\"COHERE_API_KEY\"] = getpass.getpass(\"Cohere API Key:\")"
      ],
      "metadata": {
        "colab": {
          "base_uri": "https://localhost:8080/"
        },
        "id": "3iUahNiJyQbv",
        "outputId": "36c5c5da-7659-46c2-b77c-64e553ea7688"
      },
      "execution_count": null,
      "outputs": [
        {
          "name": "stdout",
          "output_type": "stream",
          "text": [
            "Cohere API Key:··········\n"
          ]
        }
      ]
    },
    {
      "cell_type": "markdown",
      "source": [
        "## Data Collection and Preparation\n",
        "\n",
        "We'll be using some reviews from the 4 movies in the John Wick franchise today to explore the different retrieval strategies.\n",
        "\n",
        "These were obtained from IMDB, and are available in the [AIM Data Repository](https://github.com/AI-Maker-Space/DataRepository)."
      ],
      "metadata": {
        "id": "mw304iAFyRtl"
      }
    },
    {
      "cell_type": "markdown",
      "source": [
        "### Data Collection\n",
        "\n",
        "We can simply `wget` these from GitHub.\n",
        "\n",
        "You could use any review data you wanted in this step - just be careful to make sure your metadata is aligned with your choice."
      ],
      "metadata": {
        "id": "xXKHcZmKzDwT"
      }
    },
    {
      "cell_type": "code",
      "source": [
        "!wget https://raw.githubusercontent.com/AI-Maker-Space/DataRepository/main/jw1.csv -O john_wick_1.csv\n",
        "!wget https://raw.githubusercontent.com/AI-Maker-Space/DataRepository/main/jw2.csv -O john_wick_2.csv\n",
        "!wget https://raw.githubusercontent.com/AI-Maker-Space/DataRepository/main/jw3.csv -O john_wick_3.csv\n",
        "!wget https://raw.githubusercontent.com/AI-Maker-Space/DataRepository/main/jw4.csv -O john_wick_4.csv"
      ],
      "metadata": {
        "colab": {
          "base_uri": "https://localhost:8080/"
        },
        "id": "vbbSIGtzX3dS",
        "outputId": "11767eee-06cf-48e2-a863-35033a4ed4b7"
      },
      "execution_count": null,
      "outputs": [
        {
          "output_type": "stream",
          "name": "stdout",
          "text": [
            "--2024-04-15 20:56:13--  https://raw.githubusercontent.com/AI-Maker-Space/DataRepository/main/jw1.csv\n",
            "Resolving raw.githubusercontent.com (raw.githubusercontent.com)... 185.199.111.133, 185.199.108.133, 185.199.109.133, ...\n",
            "Connecting to raw.githubusercontent.com (raw.githubusercontent.com)|185.199.111.133|:443... connected.\n",
            "HTTP request sent, awaiting response... 200 OK\n",
            "Length: 19628 (19K) [text/plain]\n",
            "Saving to: ‘john_wick_1.csv’\n",
            "\n",
            "\rjohn_wick_1.csv       0%[                    ]       0  --.-KB/s               \rjohn_wick_1.csv     100%[===================>]  19.17K  --.-KB/s    in 0.002s  \n",
            "\n",
            "2024-04-15 20:56:14 (11.8 MB/s) - ‘john_wick_1.csv’ saved [19628/19628]\n",
            "\n",
            "--2024-04-15 20:56:14--  https://raw.githubusercontent.com/AI-Maker-Space/DataRepository/main/jw2.csv\n",
            "Resolving raw.githubusercontent.com (raw.githubusercontent.com)... 185.199.111.133, 185.199.108.133, 185.199.109.133, ...\n",
            "Connecting to raw.githubusercontent.com (raw.githubusercontent.com)|185.199.111.133|:443... connected.\n",
            "HTTP request sent, awaiting response... 200 OK\n",
            "Length: 14747 (14K) [text/plain]\n",
            "Saving to: ‘john_wick_2.csv’\n",
            "\n",
            "john_wick_2.csv     100%[===================>]  14.40K  --.-KB/s    in 0.001s  \n",
            "\n",
            "2024-04-15 20:56:14 (19.5 MB/s) - ‘john_wick_2.csv’ saved [14747/14747]\n",
            "\n",
            "--2024-04-15 20:56:14--  https://raw.githubusercontent.com/AI-Maker-Space/DataRepository/main/jw3.csv\n",
            "Resolving raw.githubusercontent.com (raw.githubusercontent.com)... 185.199.108.133, 185.199.109.133, 185.199.110.133, ...\n",
            "Connecting to raw.githubusercontent.com (raw.githubusercontent.com)|185.199.108.133|:443... connected.\n",
            "HTTP request sent, awaiting response... 200 OK\n",
            "Length: 13888 (14K) [text/plain]\n",
            "Saving to: ‘john_wick_3.csv’\n",
            "\n",
            "john_wick_3.csv     100%[===================>]  13.56K  --.-KB/s    in 0s      \n",
            "\n",
            "2024-04-15 20:56:14 (50.1 MB/s) - ‘john_wick_3.csv’ saved [13888/13888]\n",
            "\n",
            "--2024-04-15 20:56:14--  https://raw.githubusercontent.com/AI-Maker-Space/DataRepository/main/jw4.csv\n",
            "Resolving raw.githubusercontent.com (raw.githubusercontent.com)... 185.199.108.133, 185.199.110.133, 185.199.109.133, ...\n",
            "Connecting to raw.githubusercontent.com (raw.githubusercontent.com)|185.199.108.133|:443... connected.\n",
            "HTTP request sent, awaiting response... 200 OK\n",
            "Length: 15109 (15K) [text/plain]\n",
            "Saving to: ‘john_wick_4.csv’\n",
            "\n",
            "john_wick_4.csv     100%[===================>]  14.75K  --.-KB/s    in 0s      \n",
            "\n",
            "2024-04-15 20:56:15 (77.5 MB/s) - ‘john_wick_4.csv’ saved [15109/15109]\n",
            "\n"
          ]
        }
      ]
    },
    {
      "cell_type": "markdown",
      "source": [
        "### Data Preparation\n",
        "\n",
        "We want to make sure all our documents have the relevant metadata for the various retrieval strategies we're going to be applying today.\n",
        "\n",
        "- Self-Query: Wants as much metadata as we can provide\n",
        "- Time-weighted: Wants temporal data\n",
        "\n",
        "> NOTE: While we're creating a temporal relationship based on when these movies came out for illustrative purposes, it needs to be clear that the \"time-weighting\" in the Time-weighted Retriever is based on when the document was *accessed* last - not when it was created."
      ],
      "metadata": {
        "id": "A92NC2QZzCsi"
      }
    },
    {
      "cell_type": "code",
      "source": [
        "from langchain_community.document_loaders.csv_loader import CSVLoader\n",
        "from datetime import datetime, timedelta\n",
        "\n",
        "documents = []\n",
        "\n",
        "for i in range(1, 5):\n",
        "  loader = CSVLoader(\n",
        "      file_path=f\"john_wick_{i}.csv\",\n",
        "      metadata_columns=[\"Review_Date\", \"Review_Title\", \"Review_Url\", \"Author\", \"Rating\"]\n",
        "  )\n",
        "\n",
        "  movie_docs = loader.load()\n",
        "  for doc in movie_docs:\n",
        "\n",
        "    # Add the \"Movie Title\" (John Wick 1, 2, ...)\n",
        "    doc.metadata[\"Movie_Title\"] = f\"John Wick {i}\"\n",
        "\n",
        "    # convert \"Rating\" to an `int`, if no rating is provided - assume 0 rating\n",
        "    doc.metadata[\"Rating\"] = int(doc.metadata[\"Rating\"]) if doc.metadata[\"Rating\"] else 0\n",
        "\n",
        "    # newer movies have a more recent \"last_accessed_at\"\n",
        "    doc.metadata[\"last_accessed_at\"] = datetime.now() - timedelta(days=4-i)\n",
        "\n",
        "  documents.extend(movie_docs)"
      ],
      "metadata": {
        "id": "GshBjVRJZ6p8"
      },
      "execution_count": null,
      "outputs": []
    },
    {
      "cell_type": "markdown",
      "source": [
        "Let's look at an example document to see if everything worked as expected!"
      ],
      "metadata": {
        "id": "9gQphb6y0C0S"
      }
    },
    {
      "cell_type": "code",
      "source": [
        "documents[0]"
      ],
      "metadata": {
        "colab": {
          "base_uri": "https://localhost:8080/"
        },
        "id": "PkUkCf7DaMiq",
        "outputId": "a22fccbc-4077-485e-94c4-fc1af960fe87"
      },
      "execution_count": null,
      "outputs": [
        {
          "output_type": "execute_result",
          "data": {
            "text/plain": [
              "Document(page_content=\": 0\\nReview: The best way I can describe John Wick is to picture Taken but instead of Liam Neeson it's Keanu Reeves and instead of his daughter it's his dog. That's essentially the plot of the movie. John Wick (Reeves) is out to seek revenge on the people who took something he loved from him. It's a beautifully simple premise for an action movie - when action movies get convoluted, they get bad i.e. A Good Day to Die Hard. John Wick gives the viewers what they want: Awesome action, stylish stunts, kinetic chaos, and a relatable hero to tie it all together. John Wick succeeds in its simplicity.\", metadata={'source': 'john_wick_1.csv', 'row': 0, 'Review_Date': '6 May 2015', 'Review_Title': ' Kinetic, concise, and stylish; John Wick kicks ass.\\n', 'Review_Url': '/review/rw3233896/?ref_=tt_urv', 'Author': 'lnvicta', 'Rating': 8, 'Movie_Title': 'John Wick 1', 'last_accessed_at': datetime.datetime(2024, 4, 12, 20, 56, 18, 740710)})"
            ]
          },
          "metadata": {},
          "execution_count": 15
        }
      ]
    },
    {
      "cell_type": "markdown",
      "source": [
        "## QDrant VectorStore\n",
        "\n",
        "Now that we have our documents, we will create a QDrant VectorStore with the collection name \"JohnWick\".\n",
        "\n",
        "We'll leverage OpenAI's [`text-embedding-3-small`](https://openai.com/blog/new-embedding-models-and-api-updates) because it's a very powerful (and low-cost) embedding model.\n"
      ],
      "metadata": {
        "id": "lWaQpdHl0Gzc"
      }
    },
    {
      "cell_type": "code",
      "source": [
        "from langchain_community.vectorstores import Qdrant\n",
        "from langchain_openai import OpenAIEmbeddings\n",
        "\n",
        "embeddings = OpenAIEmbeddings(model=\"text-embedding-3-small\",  base_url=\"https://drchat.xyz\")\n",
        "\n",
        "vectorstore = Qdrant.from_documents(\n",
        "    documents,\n",
        "    embeddings,\n",
        "    location=\":memory:\",\n",
        "    collection_name=\"JohnWick\"\n",
        ")"
      ],
      "metadata": {
        "id": "NT8ihRJbYmMT"
      },
      "execution_count": null,
      "outputs": []
    },
    {
      "cell_type": "markdown",
      "source": [
        "## Naive RAG Chain\n",
        "\n",
        "Since we're focusing on the \"R\" in RAG today - we'll create our Retriever first."
      ],
      "metadata": {
        "id": "-x2SS4Rh0hiN"
      }
    },
    {
      "cell_type": "markdown",
      "source": [
        "### R - Retrieval\n",
        "\n",
        "This naive rertriever will simple look at each review as a document, and use cosine-similarity to fetch the 10 most relevant documents.\n",
        "\n",
        "> NOTE: We're choosing `10` as our `k` here to provide enough documents for our reranking process later"
      ],
      "metadata": {
        "id": "NEH7X5Ai08FH"
      }
    },
    {
      "cell_type": "code",
      "source": [
        "naive_retriever = vectorstore.as_retriever(search_kwargs={\"k\" : 10})"
      ],
      "metadata": {
        "id": "GFDPrNBtb72o"
      },
      "execution_count": null,
      "outputs": []
    },
    {
      "cell_type": "markdown",
      "source": [
        "### A - Augmented\n",
        "\n",
        "We're going to go with a standard prompt for our simple RAG chain today! Nothing fancy here, we want this to mostly be about the Retrieval process."
      ],
      "metadata": {
        "id": "MbBhyQjz06dx"
      }
    },
    {
      "cell_type": "code",
      "source": [
        "from langchain_core.prompts import ChatPromptTemplate\n",
        "\n",
        "RAG_TEMPLATE = \"\"\"\\\n",
        "You are a helpful and kind assistant. Use the context provided below to answer the question.\n",
        "\n",
        "If you do not know the answer, or are unsure, say you don't know.\n",
        "\n",
        "Query:\n",
        "{question}\n",
        "\n",
        "Context:\n",
        "{context}\n",
        "\"\"\"\n",
        "\n",
        "rag_prompt = ChatPromptTemplate.from_template(RAG_TEMPLATE)"
      ],
      "metadata": {
        "id": "7uSz-Dbqcoki"
      },
      "execution_count": null,
      "outputs": []
    },
    {
      "cell_type": "markdown",
      "source": [
        "### G - Generation\n",
        "\n",
        "We're going to leverage `gpt-3.5-turbo` as our LLM today, as - again - we want this to largely be about the Retrieval process."
      ],
      "metadata": {
        "id": "BlRzpb231GGJ"
      }
    },
    {
      "cell_type": "code",
      "source": [
        "from langchain_openai import ChatOpenAI\n",
        "\n",
        "chat_model = ChatOpenAI(base_url=\"https://drchat.xyz\")"
      ],
      "metadata": {
        "id": "c-1t9H60dJLg"
      },
      "execution_count": null,
      "outputs": []
    },
    {
      "cell_type": "markdown",
      "source": [
        "### LCEL RAG Chain\n",
        "\n",
        "We're going to use LCEL to construct our chain.\n",
        "\n",
        "> NOTE: This chain will be exactly the same across the various examples with the exception of our Retriever!"
      ],
      "metadata": {
        "id": "mg3QRGzA1M2x"
      }
    },
    {
      "cell_type": "code",
      "source": [
        "from langchain_core.runnables import RunnablePassthrough\n",
        "from operator import itemgetter\n",
        "from langchain_core.output_parsers import StrOutputParser\n",
        "\n",
        "naive_retrieval_chain = (\n",
        "    # INVOKE CHAIN WITH: {\"question\" : \"<<SOME USER QUESTION>>\"}\n",
        "    # \"question\" : populated by getting the value of the \"question\" key\n",
        "    # \"context\"  : populated by getting the value of the \"question\" key and chaining it into the base_retriever\n",
        "    {\"context\": itemgetter(\"question\") | naive_retriever, \"question\": itemgetter(\"question\")}\n",
        "    # \"context\"  : is assigned to a RunnablePassthrough object (will not be called or considered in the next step)\n",
        "    #              by getting the value of the \"context\" key from the previous step\n",
        "    | RunnablePassthrough.assign(context=itemgetter(\"context\"))\n",
        "    # \"response\" : the \"context\" and \"question\" values are used to format our prompt object and then piped\n",
        "    #              into the LLM and stored in a key called \"response\"\n",
        "    # \"context\"  : populated by getting the value of the \"context\" key from the previous step\n",
        "    | {\"response\": rag_prompt | chat_model, \"context\": itemgetter(\"context\")}\n",
        ")"
      ],
      "metadata": {
        "id": "0bvstS7mdOW3"
      },
      "execution_count": null,
      "outputs": []
    },
    {
      "cell_type": "markdown",
      "source": [
        "Let's see how this simple chain does on a few different prompts.\n"
      ],
      "metadata": {
        "id": "izKujhNb1ZG8"
      }
    },
    {
      "cell_type": "code",
      "source": [
        "naive_retrieval_chain.invoke({\"question\" : \"Did people generally like John Wick?\"})[\"response\"].content"
      ],
      "metadata": {
        "colab": {
          "base_uri": "https://localhost:8080/",
          "height": 70
        },
        "id": "LI-5ueEddku9",
        "outputId": "f3c26dfb-5f09-49c0-8c9b-f42b7b065a23"
      },
      "execution_count": null,
      "outputs": [
        {
          "output_type": "execute_result",
          "data": {
            "text/plain": [
              "'Based on the provided context, it can be inferred that people generally liked the John Wick movies. The reviews mention that the films are stylish, fun, and filled with impressive action sequences. Some reviewers even consider John Wick to be one of the best action films of the past decade. However, there is one review that states a different opinion and finds the movies to be generic.'"
            ],
            "application/vnd.google.colaboratory.intrinsic+json": {
              "type": "string"
            }
          },
          "metadata": {},
          "execution_count": 22
        }
      ]
    },
    {
      "cell_type": "code",
      "source": [
        "naive_retrieval_chain.invoke({\"question\" : \"Do any reviews have a rating of 10? If so - can I have the URLs to those reviews?\"})[\"response\"].content"
      ],
      "metadata": {
        "colab": {
          "base_uri": "https://localhost:8080/",
          "height": 35
        },
        "id": "43zdcdUydtXh",
        "outputId": "b73e82b3-6968-4bd5-bbe3-25df251603ef"
      },
      "execution_count": null,
      "outputs": [
        {
          "output_type": "execute_result",
          "data": {
            "text/plain": [
              "'Yes, there is a review with a rating of 10. Here is the URL to that review: /review/rw4854296/?ref_=tt_urv'"
            ],
            "application/vnd.google.colaboratory.intrinsic+json": {
              "type": "string"
            }
          },
          "metadata": {},
          "execution_count": 23
        }
      ]
    },
    {
      "cell_type": "code",
      "source": [
        "naive_retrieval_chain.invoke({\"question\" : \"What happened in John Wick?\"})[\"response\"].content"
      ],
      "metadata": {
        "colab": {
          "base_uri": "https://localhost:8080/",
          "height": 53
        },
        "id": "lpG6rlvvvKFq",
        "outputId": "2a336063-3f0d-4367-8e0a-213341be6b06"
      },
      "execution_count": null,
      "outputs": [
        {
          "output_type": "execute_result",
          "data": {
            "text/plain": [
              "'In John Wick, an ex-hit-man comes out of retirement to seek revenge on the gangsters who killed his dog and took everything from him. He unleashes a maelstrom of destruction against those who chase him, and he becomes the target of hit men. The movie is known for its ultra-violent and action-packed scenes.'"
            ],
            "application/vnd.google.colaboratory.intrinsic+json": {
              "type": "string"
            }
          },
          "metadata": {},
          "execution_count": 24
        }
      ]
    },
    {
      "cell_type": "markdown",
      "source": [
        "Overall, this is not bad! Let's see if we can make it better!"
      ],
      "metadata": {
        "id": "jsbfQmbr1leg"
      }
    },
    {
      "cell_type": "markdown",
      "source": [
        "## Parent Document Retriever\n",
        "\n",
        "A \"small-to-big\" strategy - the Parent Document Retriever works based on a simple strategy:\n",
        "\n",
        "1. Each un-split \"document\" will be designated as a \"parent document\" (You could use larger chunks of document as well, but our data format allows us to consider the overall document as the parent chunk)\n",
        "2. Store those \"parent documents\" in a memory store (not a VectorStore)\n",
        "3. We will chunk each of those documents into smaller documents, and associate them with their respective parents, and store those in a VectorStore. We'll call those \"child chunks\".\n",
        "4. When we query our Retriever, we will do a similarity search comparing our query vector to the \"child chunks\".\n",
        "5. Instead of returning the \"child chunks\", we'll return their associated \"parent chunks\".\n",
        "\n",
        "Okay, maybe that was a few steps - but the basic idea is this:\n",
        "\n",
        "- Search for small documents\n",
        "- Return big documents\n",
        "\n",
        "The intuition is that we're likely to find the most relevant information by limiting the amount of semantic information that is encoded in each embedding vector - but we're likely to miss relevant surrounding context if we only use that information.\n",
        "\n",
        "Let's start by creating our \"parent documents\" and defining a `RecursiveCharacterTextSplitter`."
      ],
      "metadata": {
        "id": "EDEawBf_d_3G"
      }
    },
    {
      "cell_type": "code",
      "source": [
        "from langchain.retrievers import ParentDocumentRetriever\n",
        "from langchain.storage import InMemoryStore\n",
        "from langchain_text_splitters import RecursiveCharacterTextSplitter\n",
        "from qdrant_client import QdrantClient, models\n",
        "\n",
        "parent_docs = documents\n",
        "child_splitter = RecursiveCharacterTextSplitter(chunk_size=200)"
      ],
      "metadata": {
        "id": "qJ53JJuMd_ZH"
      },
      "execution_count": null,
      "outputs": []
    },
    {
      "cell_type": "markdown",
      "source": [
        "We'll need to set up a new QDrant vectorstore - and we'll use another useful pattern to do so!\n",
        "\n",
        "> NOTE: We are manually defining our embedding dimension, you'll need to change this if you're using a different embedding model."
      ],
      "metadata": {
        "id": "oOpXfVUH3gL3"
      }
    },
    {
      "cell_type": "code",
      "source": [
        "client = QdrantClient(location=\":memory:\")\n",
        "\n",
        "client.create_collection(\n",
        "    collection_name=\"full_documents\",\n",
        "    vectors_config=models.VectorParams(size=1536, distance=models.Distance.COSINE)\n",
        ")\n",
        "\n",
        "parent_document_vectorstore = Qdrant(\n",
        "    collection_name=\"full_documents\", embeddings=OpenAIEmbeddings(model=\"text-embedding-3-small\",  base_url=\"https://drchat.xyz\"), client=client\n",
        ")"
      ],
      "metadata": {
        "id": "rzFc-_9HlGQ-"
      },
      "execution_count": null,
      "outputs": []
    },
    {
      "cell_type": "markdown",
      "source": [
        "Now we can create our `InMemoryStore` that will hold our \"parent documents\" - and build our retriever!"
      ],
      "metadata": {
        "id": "sf_g95FA3s6w"
      }
    },
    {
      "cell_type": "code",
      "source": [
        "store = InMemoryStore()\n",
        "\n",
        "parent_document_retriever = ParentDocumentRetriever(\n",
        "    vectorstore = parent_document_vectorstore,\n",
        "    docstore=store,\n",
        "    child_splitter=child_splitter,\n",
        ")"
      ],
      "metadata": {
        "id": "BpWVjPf4fLUp"
      },
      "execution_count": null,
      "outputs": []
    },
    {
      "cell_type": "markdown",
      "source": [
        "By default, this is empty as we haven't added any documents - let's add some now!"
      ],
      "metadata": {
        "id": "KoYmSWfE32Zo"
      }
    },
    {
      "cell_type": "code",
      "source": [
        "parent_document_retriever.add_documents(parent_docs, ids=None)"
      ],
      "metadata": {
        "id": "iQ2ZzfKigMZc"
      },
      "execution_count": null,
      "outputs": []
    },
    {
      "cell_type": "markdown",
      "source": [
        "We'll create the same chain we did before - but substitute our new `parent_document_retriever`."
      ],
      "metadata": {
        "id": "bI7Tip1335rE"
      }
    },
    {
      "cell_type": "code",
      "source": [
        "parent_document_retrieval_chain = (\n",
        "    {\"context\": itemgetter(\"question\") | parent_document_retriever, \"question\": itemgetter(\"question\")}\n",
        "    | RunnablePassthrough.assign(context=itemgetter(\"context\"))\n",
        "    | {\"response\": rag_prompt | chat_model, \"context\": itemgetter(\"context\")}\n",
        ")"
      ],
      "metadata": {
        "id": "Qq_adt2KlSqp"
      },
      "execution_count": null,
      "outputs": []
    },
    {
      "cell_type": "markdown",
      "source": [
        "Let's give it a whirl!"
      ],
      "metadata": {
        "id": "jNolUVQb4Apt"
      }
    },
    {
      "cell_type": "code",
      "source": [
        "parent_document_retrieval_chain.invoke({\"question\" : \"Did people generally like John Wick?\"})[\"response\"].content"
      ],
      "metadata": {
        "colab": {
          "base_uri": "https://localhost:8080/",
          "height": 53
        },
        "id": "TXB5i89Zly5W",
        "outputId": "3ff08c45-b896-4dc2-b143-d4f15cd1ba63"
      },
      "execution_count": null,
      "outputs": [
        {
          "output_type": "execute_result",
          "data": {
            "text/plain": [
              "'Based on the provided context, opinions about John Wick are mixed. Some people love the series and enjoy the action and style, while others dislike it and criticize the plot and fight scenes.'"
            ],
            "application/vnd.google.colaboratory.intrinsic+json": {
              "type": "string"
            }
          },
          "metadata": {},
          "execution_count": 33
        }
      ]
    },
    {
      "cell_type": "code",
      "source": [
        "parent_document_retrieval_chain.invoke({\"question\" : \"Do any reviews have a rating of 10? If so - can I have the URLs to those reviews?\"})[\"response\"].content"
      ],
      "metadata": {
        "colab": {
          "base_uri": "https://localhost:8080/",
          "height": 35
        },
        "id": "V5F1T-wNl3cg",
        "outputId": "496665f6-ec0c-4fd5-e3ab-af00c63ffd57"
      },
      "execution_count": null,
      "outputs": [
        {
          "output_type": "execute_result",
          "data": {
            "text/plain": [
              "'Yes, there is a review with a rating of 10. Here is the URL to that review: /review/rw4854296/?ref_=tt_urv.'"
            ],
            "application/vnd.google.colaboratory.intrinsic+json": {
              "type": "string"
            }
          },
          "metadata": {},
          "execution_count": 29
        }
      ]
    },
    {
      "cell_type": "code",
      "source": [
        "parent_document_retrieval_chain.invoke({\"question\" : \"What happened in John Wick?\"})[\"response\"].content"
      ],
      "metadata": {
        "colab": {
          "base_uri": "https://localhost:8080/",
          "height": 70
        },
        "id": "ZqARszGzvGcG",
        "outputId": "210401ad-57a7-48b3-d526-91b836328755"
      },
      "execution_count": null,
      "outputs": [
        {
          "output_type": "execute_result",
          "data": {
            "text/plain": [
              "\"In the John Wick movies, John Wick, played by Keanu Reeves, is a retired assassin who is forced back into action after someone kills his dog and steals his car. In the first movie, John seeks revenge on the gangsters responsible for the death of his dog and the theft of his car. In the second movie, he is called on to pay off an old debt by helping Ian McShane's character take over the Assassin's Guild. John travels to Italy, Canada, and Manhattan, killing numerous assassins along the way.\""
            ],
            "application/vnd.google.colaboratory.intrinsic+json": {
              "type": "string"
            }
          },
          "metadata": {},
          "execution_count": 30
        }
      ]
    },
    {
      "cell_type": "markdown",
      "source": [
        "Overall, the performance *seems* largely the same. We can leverage a tool like [Ragas]() to more effectively answer the question about the performance."
      ],
      "metadata": {
        "id": "B41cj42s4DPM"
      }
    },
    {
      "cell_type": "markdown",
      "source": [
        "## Self-Query\n",
        "\n",
        "We have another problem with retrieval - what if people are asking questions based on the metadata, instead of the contained context?\n",
        "\n",
        "That's where Self-Query shines!\n",
        "\n",
        "It not only lets us search our vectorstore in the traditional way (semantic similarity), but we can also filter our vectorstore intelligently based on the provided metadata!\n",
        "\n",
        "Let's start by describing the relevant metadata, and what type of data it is.\n"
      ],
      "metadata": {
        "id": "L7eVqIuHndxp"
      }
    },
    {
      "cell_type": "code",
      "source": [
        "from langchain.chains.query_constructor.base import AttributeInfo\n",
        "from langchain.retrievers.self_query.base import SelfQueryRetriever\n",
        "\n",
        "metadata_field_info = [\n",
        "    AttributeInfo(\n",
        "        name=\"Movie_Title\",\n",
        "        description=\"The title of the movie\",\n",
        "        type=\"string\",\n",
        "    ),\n",
        "    AttributeInfo(\n",
        "        name=\"Review_Date\",\n",
        "        description=\"The date of the review\",\n",
        "        type=\"string\",\n",
        "    ),\n",
        "    AttributeInfo(\n",
        "        name=\"Review_Title\",\n",
        "        description=\"The title of the review\",\n",
        "        type=\"string\",\n",
        "    ),\n",
        "    AttributeInfo(\n",
        "        name=\"Review_Url\",\n",
        "        description=\"The URL of the review\",\n",
        "        type=\"string\",\n",
        "    ),\n",
        "    AttributeInfo(\n",
        "        name=\"Author\",\n",
        "        description=\"The author of the review\",\n",
        "        type=\"string\",\n",
        "    ),\n",
        "    AttributeInfo(\n",
        "        name=\"Rating\",\n",
        "        description=\"A 1 to 10 rating for the movie\",\n",
        "        type=\"integer\",\n",
        "    )\n",
        "]\n",
        "\n",
        "document_content_desription = \"A review of the movie.\"\n",
        "\n",
        "self_query_retriever = SelfQueryRetriever.from_llm(\n",
        "    ChatOpenAI(temperature=0,  base_url=\"https://drchat.xyz\"),\n",
        "    vectorstore,\n",
        "    document_content_desription,\n",
        "    metadata_field_info,\n",
        ")"
      ],
      "metadata": {
        "id": "yXqajPS7ns9b"
      },
      "execution_count": null,
      "outputs": []
    },
    {
      "cell_type": "markdown",
      "source": [
        "Let's create our chain, and see how this does."
      ],
      "metadata": {
        "id": "NRx_xloH5YZZ"
      }
    },
    {
      "cell_type": "code",
      "source": [
        "self_query_retrieval_chain = (\n",
        "    {\"context\": itemgetter(\"question\") | self_query_retriever, \"question\": itemgetter(\"question\")}\n",
        "    | RunnablePassthrough.assign(context=itemgetter(\"context\"))\n",
        "    | {\"response\": rag_prompt | chat_model, \"context\": itemgetter(\"context\")}\n",
        ")"
      ],
      "metadata": {
        "id": "00jOVo98q1lg"
      },
      "execution_count": null,
      "outputs": []
    },
    {
      "cell_type": "code",
      "source": [
        "self_query_retrieval_chain.invoke({\"question\" : \"Did people generally like John Wick?\"})[\"response\"].content"
      ],
      "metadata": {
        "colab": {
          "base_uri": "https://localhost:8080/",
          "height": 35
        },
        "id": "QJcBNTt8q9Zu",
        "outputId": "59f3d1f9-ea9b-43ca-e11b-61577e5ea8e0"
      },
      "execution_count": null,
      "outputs": [
        {
          "output_type": "execute_result",
          "data": {
            "text/plain": [
              "'Based on the provided context, it can be inferred that people generally liked John Wick. The reviews mention the intense action, thrilling storyline, and the popularity of the franchise with multiple sequels.'"
            ],
            "application/vnd.google.colaboratory.intrinsic+json": {
              "type": "string"
            }
          },
          "metadata": {},
          "execution_count": 34
        }
      ]
    },
    {
      "cell_type": "code",
      "source": [
        "self_query_retrieval_chain.invoke({\"question\" : \"Do any reviews have a rating of 10? If so - can I have the URLs to those reviews?\"})[\"response\"].content"
      ],
      "metadata": {
        "colab": {
          "base_uri": "https://localhost:8080/",
          "height": 53
        },
        "id": "RFFr8WUzrB-i",
        "outputId": "53f253b7-9173-458e-c246-3722469cc875"
      },
      "execution_count": null,
      "outputs": [
        {
          "output_type": "execute_result",
          "data": {
            "text/plain": [
              "\"Yes, there are reviews with a rating of 10. Here are the URLs to those reviews:\\n\\n1. Review URL: '/review/rw7582036/?ref_=tt_urv'\\n2. Review URL: '/review/rw4860603/?ref_=tt_urv'\\n3. Review URL: '/review/rw4854296/?ref_=tt_urv'\\n4. Review URL: '/review/rw3109271/?ref_=tt_urv'\""
            ],
            "application/vnd.google.colaboratory.intrinsic+json": {
              "type": "string"
            }
          },
          "metadata": {},
          "execution_count": 35
        }
      ]
    },
    {
      "cell_type": "code",
      "source": [
        "self_query_retrieval_chain.invoke({\"question\" : \"What happened in John Wick?\"})[\"response\"].content"
      ],
      "metadata": {
        "colab": {
          "base_uri": "https://localhost:8080/",
          "height": 70
        },
        "id": "EfbiNk6mvA4a",
        "outputId": "581891f4-7874-4b91-92e4-17954fc387a1"
      },
      "execution_count": null,
      "outputs": [
        {
          "output_type": "execute_result",
          "data": {
            "text/plain": [
              "'In John Wick, an ex-hitman comes out of retirement to seek vengeance against the gangsters who killed his dog and took everything from him. He is dragged into an impossible task when an arrogant Russian mob prince steals his car and kills his dog. Wick unleashes a maelstrom of destruction against those who try to chase him, becoming the target of hitmen and bounty hunters. He is forced to unearth his concealed identity and carry out a relentless vendetta. The story continues in subsequent John Wick films.'"
            ],
            "application/vnd.google.colaboratory.intrinsic+json": {
              "type": "string"
            }
          },
          "metadata": {},
          "execution_count": 36
        }
      ]
    },
    {
      "cell_type": "markdown",
      "source": [
        "As we can see - the question concerning specific metadata was answered much better than the previous methods!"
      ],
      "metadata": {
        "id": "mRQDaz3z5gha"
      }
    },
    {
      "cell_type": "markdown",
      "source": [
        "## Time-weighted Vector Store\n",
        "\n",
        "Next up, we have a method that leverages temporal data to more prefer the most recently accessed documents in our VectorStore.\n",
        "\n",
        "> NOTE: In this example we've created a relationship between when the movie came out, and when the chunks were accessed, this is simply for illustrative purposes."
      ],
      "metadata": {
        "id": "vdey4mLb5lTK"
      }
    },
    {
      "cell_type": "markdown",
      "source": [
        "Once again, we'll create a new QDrant vectorstore using the in-memory client."
      ],
      "metadata": {
        "id": "Kl-8EKOj6FrN"
      }
    },
    {
      "cell_type": "code",
      "source": [
        "from langchain.retrievers import TimeWeightedVectorStoreRetriever\n",
        "\n",
        "client = QdrantClient(location=\":memory:\")\n",
        "\n",
        "client.create_collection(\n",
        "    collection_name=\"time_weighted\",\n",
        "    vectors_config=models.VectorParams(size=1536, distance=models.Distance.COSINE)\n",
        ")\n",
        "\n",
        "time_weighted_vectorstore = Qdrant(\n",
        "    collection_name=\"time_weighted\", embeddings=OpenAIEmbeddings(model=\"text-embedding-3-small\", base_url=\"https://drchat.xyz\"), client=client\n",
        ")"
      ],
      "metadata": {
        "id": "kwwA5Uf_usmL"
      },
      "execution_count": null,
      "outputs": []
    },
    {
      "cell_type": "markdown",
      "source": [
        "In the `TimeWeightedVectorStoreRetriever`, you'll notice that we have a parameter called `decay_rate`. This `decay_rate` is used in the following calculation to scale our cosine-similarity scores by when the document was last accessed:\n",
        "\n",
        "$semantic\\_similarity + (1.0 - decay\\_rate) ^ {hours\\_passed}$\n",
        "\n",
        "As you can see, the decay_rate will be set between $(0-1)$, where $0$ will mean we're never decaying our semantic similarity scores, and $1$ will mean we're also never decaying our semantic similarity scores.\n",
        "\n",
        "As we increase the decay rate from $0 -> 1$ we're going to see items more and more aggresively decaying as time moves along.\n",
        "\n",
        "So a \"low\" decay rate (closer to 0) will lead to items being less penalized for being accessed less-recently - and a \"high\" decay rate (closer to 1) will lead to items being more penalized for being accessed less-recently."
      ],
      "metadata": {
        "id": "PaC0jWzW6NVM"
      }
    },
    {
      "cell_type": "code",
      "source": [
        "time_weighted_retriever = TimeWeightedVectorStoreRetriever(\n",
        "    vectorstore=time_weighted_vectorstore, decay_rate=0.6, k=2,\n",
        ")\n",
        "\n",
        "time_weighted_retriever.add_documents(documents)"
      ],
      "metadata": {
        "colab": {
          "base_uri": "https://localhost:8080/"
        },
        "id": "GGbN1C7VtmQ4",
        "outputId": "98c24a01-73cf-44b0-dcb0-b9a164fdf4a9"
      },
      "execution_count": null,
      "outputs": [
        {
          "output_type": "execute_result",
          "data": {
            "text/plain": [
              "['041a74fee7504afaa68942b7b1357a02',\n",
              " '69a3e85d18df4b6693be1f039948c1e5',\n",
              " '9af28c10fe054973a22053215407dafc',\n",
              " '8ab65d84cfb84a8e9ea0992ba0005628',\n",
              " '0d1addafed094df2b56dbe7850858373',\n",
              " '545819de98fb454c827e28e5024d8db4',\n",
              " '57d9f75b49ec4f138f52aaa2f2091090',\n",
              " '92aabf91d57241d3aded8afb34829f47',\n",
              " 'd6a0f12f87d9414a93f72af7a86ef562',\n",
              " '616f116acf4f4525a320ecaebbaa63f8',\n",
              " 'fe4fe4e8ca4249d8a48c4eb778604b56',\n",
              " '9ac8837494064375a91d3c7b9cca37e2',\n",
              " '65397164b03b4380943919198c4aa650',\n",
              " '07b5047516a34de1b2f88b46c991b416',\n",
              " '27c90fb58d4a46fb936265e7d945b4d8',\n",
              " '9cee5fb85c1745d087da1ab7c653353e',\n",
              " '8bc0bf8a2a3d41528551b3e442fd1102',\n",
              " '91ed9fce24904f5a8328a18e9df329bc',\n",
              " 'f1f17e525039463f8c61d8a37ed1ab9b',\n",
              " 'd18ba57c4c754a93b30908ffd2dbb7bc',\n",
              " '8a85fe3829b64318b13dbe81d4b10047',\n",
              " '872dcf788e12436c9db1f36ae039d0d3',\n",
              " '69209011bb044b658c521c27c54ad90e',\n",
              " 'f4b0c406ff9143e5b49c15ad1dcf01e6',\n",
              " '70581600749e480b8b861a88a65ec749',\n",
              " 'c8aa35823fd74276a29f18d3ea122bc1',\n",
              " 'e227c0984d4743c58c80fae6fa6005dd',\n",
              " '878c9730d524463abd720966491e9faa',\n",
              " 'e9a410a751c14a3ca4719d683471bcaf',\n",
              " 'a56b2c51d6ea4864ab3872edd650d9d5',\n",
              " 'cf8b076640714692908a23decc427f4d',\n",
              " 'd4b66cefd1cc4223bea2a84ff2b1ee3b',\n",
              " 'c8ec2a4a354c4f349b24f59e17082558',\n",
              " '5e6550dcf62641a0b6b6e3f32e04315e',\n",
              " '8037fbc1c8d844a08b7edd30c7b394bd',\n",
              " 'a2f221655a924226a705cd84841b8781',\n",
              " '005f819dd65d49d9b269c8f488b1b60a',\n",
              " 'efb81046fa7e4717be3af64d80bce797',\n",
              " '88ce98168e3642158866ab8b73af433c',\n",
              " '7f46bcea4da5467e8d0bc4fc4635ca12',\n",
              " '63f9ec75169c4d8396da64b20e13dedd',\n",
              " '3e525fc6f24449f2884ca95ea8a77851',\n",
              " '670c80a3ac0a401a9673ecc5f300be6a',\n",
              " 'a7b5acdbded4428f960d2bcf28db0023',\n",
              " 'e8cb3756b65e4631a4010eeed607ca18',\n",
              " 'c5d3fdbb52bd415283aa375b8ccdb5cc',\n",
              " '616047c9b77b4d878bbfc140f9b8addd',\n",
              " '864ad7f6366d490bbdd440d387f8ac02',\n",
              " '526e41a4404f4e9fac7d902ff1346e14',\n",
              " '74dbe8bddd1f497283e39136c7eb436d',\n",
              " 'bc9cac9aebca4ca7a349645c4678f542',\n",
              " '597ae0631caf43be9887bc025402e4d2',\n",
              " 'e026ad328de54b2e8d8f9c815fcba6c9',\n",
              " '420da56c97124e20b2fd40a1ddbaaaff',\n",
              " 'c2490d9d0a074fd294a0280bba896d26',\n",
              " '46e2426533304e629a5548f509b46544',\n",
              " '4c304d1524bd4e3f96b3d1d414f7327e',\n",
              " '40fe11ec86934c48bad83d5b4f8f5bb4',\n",
              " 'ece312a7153b4bf7b24f56fab056e46e',\n",
              " 'c4334530097e479b8db11e00e33f5072',\n",
              " '8ead48148ad64d98b0af67ace5355205',\n",
              " '968d108ba3dc42b7b46f726c9bb657ff',\n",
              " 'e58690a5f66a441a8d00ce9d3cf87ef9',\n",
              " '076ac047609b4c6aa224f9931822e3bc',\n",
              " '7c207c7f8e06437fa970eeff30076bce',\n",
              " '1dc3cba7329f49f8be5495e8eea6805c',\n",
              " '3c08bb199eb744b0b507cfe3941d6be4',\n",
              " '802b27a4f0ac4ce9891fbb27d4d2e42d',\n",
              " 'd59951450e2e4ee8b7541c7de32dd5ad',\n",
              " 'c2e04d5366a64bfabe227e1454806230',\n",
              " 'be27394862774c3ba18adb88a029b6b8',\n",
              " '7391e7bc286b4587afdbf7754cd629f4',\n",
              " 'c65dff0032e84413a1e946a0a020bbdc',\n",
              " 'cf84708bf6274717839d431673ed11dd',\n",
              " '230e5e0d066448a8b0df0b374bdb3aa9',\n",
              " '0d9ab875636145a69b44e31623066d1d',\n",
              " 'c5377379e9b44300858fdc4370f219fd',\n",
              " '3c2a64e2c10e4095ab1b54630d725be1',\n",
              " 'b82813e7b013416bbe161718b7f924d4',\n",
              " 'a3602b3e4837420999fc06946e8301eb',\n",
              " 'a2bff329b80e46b2a13aad2524adb7a2',\n",
              " '60fae4ab85424ff0a43a5a4c13066831',\n",
              " '942b48c46ba34b72a10bb07db0002799',\n",
              " 'e8b9d5aa3e6243e195877e6c588a1caa',\n",
              " '1e3b8f1a8e604193939b2e58468b43c0',\n",
              " 'e6775045579444158fc6284180165c47',\n",
              " '3fc9e193fce547c8a8b2e8700f312c02',\n",
              " '00c388e16e724d4b8faf5e5a23ebdc77',\n",
              " '3a6746441a96442ba7913a36392a7a31',\n",
              " 'ae2cdf88eff9469aad5d51d0a0656f5b',\n",
              " 'de6402bd36864933967698b7d750a3af',\n",
              " 'f2c67337bc114c59815bf38315f514ef',\n",
              " 'b91cd4d26d9f4fd98d85bcfabe69ed90',\n",
              " 'e63a5ce1791149abb6a7a5bfb8e80223',\n",
              " '175a29dde72e4854b818c108ab8eb88c',\n",
              " 'ed73864d7e2d4914a89aa89aa1ba5655',\n",
              " '1e22d9f1cfaa472ea909260f1a390450',\n",
              " '393127dfc3684329b9f8daef6ea32fa4',\n",
              " 'b987df1f07d143b5897523a9d1cf7242',\n",
              " '240bd2a969d34906979acce2696a9fac']"
            ]
          },
          "metadata": {},
          "execution_count": 40
        }
      ]
    },
    {
      "cell_type": "markdown",
      "source": [
        "Let's create our same RAG chain that we've been using so far!"
      ],
      "metadata": {
        "id": "P4lJVH708Xf8"
      }
    },
    {
      "cell_type": "code",
      "source": [
        "time_weighted_retrieval_chain = (\n",
        "    {\"context\": itemgetter(\"question\") | time_weighted_retriever, \"question\": itemgetter(\"question\")}\n",
        "    | RunnablePassthrough.assign(context=itemgetter(\"context\"))\n",
        "    | {\"response\": rag_prompt | chat_model, \"context\": itemgetter(\"context\")}\n",
        ")"
      ],
      "metadata": {
        "id": "lLdJW2vSu2UP"
      },
      "execution_count": null,
      "outputs": []
    },
    {
      "cell_type": "markdown",
      "source": [
        "Let's test this iteration!"
      ],
      "metadata": {
        "id": "15p5N_cV8uIu"
      }
    },
    {
      "cell_type": "code",
      "source": [
        "time_weighted_retrieval_chain.invoke({\"question\" : \"Did people generally like John Wick?\"})[\"response\"].content"
      ],
      "metadata": {
        "colab": {
          "base_uri": "https://localhost:8080/",
          "height": 53
        },
        "id": "EhjeB3ctuehR",
        "outputId": "b179f689-0973-438b-e351-fb22c8558b45"
      },
      "execution_count": null,
      "outputs": [
        {
          "output_type": "execute_result",
          "data": {
            "text/plain": [
              "'Based on the context provided, people generally liked John Wick 4. The reviews mentioned that the movie exceeded expectations and that it was even better than the previous films in the franchise. The set pieces and action sequences were praised, and the movie was described as a wild ride.'"
            ],
            "application/vnd.google.colaboratory.intrinsic+json": {
              "type": "string"
            }
          },
          "metadata": {},
          "execution_count": 42
        }
      ]
    },
    {
      "cell_type": "code",
      "source": [
        "time_weighted_retrieval_chain.invoke({\"question\" : \"Do any reviews have a rating of 10? If so - can I have the URLs to those reviews?\"})[\"response\"].content"
      ],
      "metadata": {
        "colab": {
          "base_uri": "https://localhost:8080/",
          "height": 35
        },
        "id": "qNxNQizAvSYz",
        "outputId": "cc9053c2-ee00-48b4-d4ba-dff02e9c56d9"
      },
      "execution_count": null,
      "outputs": [
        {
          "output_type": "execute_result",
          "data": {
            "text/plain": [
              "'No, there are no reviews with a rating of 10 in the provided context.'"
            ],
            "application/vnd.google.colaboratory.intrinsic+json": {
              "type": "string"
            }
          },
          "metadata": {},
          "execution_count": 43
        }
      ]
    },
    {
      "cell_type": "code",
      "source": [
        "time_weighted_retrieval_chain.invoke({\"question\" : \"What happened in John Wick?\"})[\"response\"].content"
      ],
      "metadata": {
        "colab": {
          "base_uri": "https://localhost:8080/",
          "height": 70
        },
        "id": "YIRhGCXUvVC3",
        "outputId": "2b3de9d7-9b59-429e-bf9b-680fc6894f2d"
      },
      "execution_count": null,
      "outputs": [
        {
          "output_type": "execute_result",
          "data": {
            "text/plain": [
              "'In John Wick 4, according to the reviews, the movie is described as a wild ride and even better than the previous movies in the franchise. It is said to have intense action scenes and set pieces, with one scene in Tokyo featuring illuminated cherry blossoms. However, there is a mention of a super illogical thing that bothered one reviewer, which was that nobody flinched at a nightclub despite a 10-minute beatdown happening. Overall, it seems like a highly entertaining and action-packed film.'"
            ],
            "application/vnd.google.colaboratory.intrinsic+json": {
              "type": "string"
            }
          },
          "metadata": {},
          "execution_count": 44
        }
      ]
    },
    {
      "cell_type": "markdown",
      "source": [
        "As you can see, we're heavily biasing the more \"recently accessed\" documents (John Wick 4, in this case)."
      ],
      "metadata": {
        "id": "U50f7UbF8wh4"
      }
    },
    {
      "cell_type": "markdown",
      "source": [
        "## Contextual Compression\n",
        "\n",
        "Contextual Compression is a fairly straightforward idea: We want to \"compress\" our retrieved context into just the most useful bits.\n",
        "\n",
        "There are a few ways we can achieve this - but we're going to look at a specific example called reranking.\n",
        "\n",
        "The basic idea here is this:\n",
        "\n",
        "- We retrieve lots of documents that are very likely related to our query vector\n",
        "- We \"compress\" those documents into a smaller set of *more* related documents using a reranking algorithm.\n",
        "\n",
        "We'll be leveraging Cohere's Rerank model for our reranker today!\n",
        "\n",
        "All we need to do is the following:\n",
        "\n",
        "- Create a basic retriever\n",
        "- Create a compressor (reranker, in this case)\n",
        "\n",
        "That's it!\n",
        "\n",
        "Let's see it in the code below!"
      ],
      "metadata": {
        "id": "Q-dcbFn2vpZF"
      }
    },
    {
      "cell_type": "code",
      "source": [
        "from langchain.retrievers.contextual_compression import ContextualCompressionRetriever\n",
        "from langchain_cohere import CohereRerank\n",
        "\n",
        "compressor = CohereRerank()\n",
        "compression_retriever = ContextualCompressionRetriever(\n",
        "    base_compressor=compressor, base_retriever=naive_retriever\n",
        ")"
      ],
      "metadata": {
        "id": "psHvO2K1v_ZQ"
      },
      "execution_count": null,
      "outputs": []
    },
    {
      "cell_type": "markdown",
      "source": [
        "Let's create our chain again, and see how this does!"
      ],
      "metadata": {
        "id": "_TA9RB2x-j7P"
      }
    },
    {
      "cell_type": "code",
      "source": [
        "contextual_compression_retrieval_chain = (\n",
        "    {\"context\": itemgetter(\"question\") | compression_retriever, \"question\": itemgetter(\"question\")}\n",
        "    | RunnablePassthrough.assign(context=itemgetter(\"context\"))\n",
        "    | {\"response\": rag_prompt | chat_model, \"context\": itemgetter(\"context\")}\n",
        ")"
      ],
      "metadata": {
        "id": "1BXqmxvHwX6T"
      },
      "execution_count": null,
      "outputs": []
    },
    {
      "cell_type": "code",
      "source": [
        "contextual_compression_retrieval_chain.invoke({\"question\" : \"Did people generally like John Wick?\"})[\"response\"].content"
      ],
      "metadata": {
        "colab": {
          "base_uri": "https://localhost:8080/",
          "height": 53
        },
        "id": "V3iGpokswcBb",
        "outputId": "a1b06c9d-0a05-421b-c8aa-873f097312e6"
      },
      "execution_count": null,
      "outputs": [
        {
          "output_type": "execute_result",
          "data": {
            "text/plain": [
              "'Based on the context provided, it can be inferred that people generally liked John Wick. One reviewer mentioned that they made a big mistake by initially skipping the film and found it to be a dark, stylish, and fun action movie. Another reviewer praised the film for its elaborate action sequences and compared it favorably to other noir films. Additionally, the positive comments about the cinematography and fight choreography suggest a positive reception.'"
            ],
            "application/vnd.google.colaboratory.intrinsic+json": {
              "type": "string"
            }
          },
          "metadata": {},
          "execution_count": 47
        }
      ]
    },
    {
      "cell_type": "code",
      "source": [
        "contextual_compression_retrieval_chain.invoke({\"question\" : \"Do any reviews have a rating of 10? If so - can I have the URLs to those reviews?\"})[\"response\"].content"
      ],
      "metadata": {
        "colab": {
          "base_uri": "https://localhost:8080/",
          "height": 35
        },
        "id": "7u_k0i4OweUd",
        "outputId": "4a719faf-213a-40dd-bc58-e8143c75a627"
      },
      "execution_count": null,
      "outputs": [
        {
          "output_type": "execute_result",
          "data": {
            "text/plain": [
              "'Yes, there is a review with a rating of 10. The URL to that review is \"/review/rw4854296/?ref_=tt_urv\".'"
            ],
            "application/vnd.google.colaboratory.intrinsic+json": {
              "type": "string"
            }
          },
          "metadata": {},
          "execution_count": 48
        }
      ]
    },
    {
      "cell_type": "code",
      "source": [
        "contextual_compression_retrieval_chain.invoke({\"question\" : \"What happened in John Wick?\"})[\"response\"].content"
      ],
      "metadata": {
        "colab": {
          "base_uri": "https://localhost:8080/",
          "height": 70
        },
        "id": "zn1EqaGqweXN",
        "outputId": "a8de27e1-d84f-46af-d26a-99d161623709"
      },
      "execution_count": null,
      "outputs": [
        {
          "output_type": "execute_result",
          "data": {
            "text/plain": [
              "\"In John Wick, the main character, played by Keanu Reeves, is a retired hitman who is forced back into action when a mobster named Santino D'Antonio asks him to fulfill a marker. Wick initially refuses, so Santino blows up his house. Wick then seeks out the owner of the Continental hotel, Winston, who advises him to honor the marker. The assignment is to kill Santino's sister, Gianna D'Antonio, in Rome. After completing the mission, Santino puts a seven-million dollar contract on Wick's head, attracting professional killers from everywhere. Wick vows to kill Santino, who is no longer protected by the marker.\""
            ],
            "application/vnd.google.colaboratory.intrinsic+json": {
              "type": "string"
            }
          },
          "metadata": {},
          "execution_count": 49
        }
      ]
    },
    {
      "cell_type": "markdown",
      "source": [
        "Again, it's hard to qualitatively assess this solution - but it \"seems\" better!"
      ],
      "metadata": {
        "id": "OEbT0g2S-mZ4"
      }
    }
  ]
}